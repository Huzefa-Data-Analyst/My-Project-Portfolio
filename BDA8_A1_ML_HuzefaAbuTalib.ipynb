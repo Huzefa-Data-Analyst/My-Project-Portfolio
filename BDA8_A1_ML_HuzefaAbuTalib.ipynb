{
 "cells": [
  {
   "cell_type": "code",
   "execution_count": 155,
   "id": "8a065d85",
   "metadata": {},
   "outputs": [],
   "source": [
    "import numpy as np\n",
    "import pandas as pd"
   ]
  },
  {
   "cell_type": "code",
   "execution_count": 156,
   "id": "273efc75",
   "metadata": {},
   "outputs": [],
   "source": [
    "df= pd.read_csv('bank-market.csv')"
   ]
  },
  {
   "cell_type": "code",
   "execution_count": 157,
   "id": "775616a5",
   "metadata": {},
   "outputs": [
    {
     "data": {
      "text/html": [
       "<div>\n",
       "<style scoped>\n",
       "    .dataframe tbody tr th:only-of-type {\n",
       "        vertical-align: middle;\n",
       "    }\n",
       "\n",
       "    .dataframe tbody tr th {\n",
       "        vertical-align: top;\n",
       "    }\n",
       "\n",
       "    .dataframe thead th {\n",
       "        text-align: right;\n",
       "    }\n",
       "</style>\n",
       "<table border=\"1\" class=\"dataframe\">\n",
       "  <thead>\n",
       "    <tr style=\"text-align: right;\">\n",
       "      <th></th>\n",
       "      <th>age</th>\n",
       "      <th>job</th>\n",
       "      <th>marital</th>\n",
       "      <th>education</th>\n",
       "      <th>default</th>\n",
       "      <th>balance</th>\n",
       "      <th>housing</th>\n",
       "      <th>loan</th>\n",
       "      <th>contact</th>\n",
       "      <th>day</th>\n",
       "      <th>month</th>\n",
       "      <th>duration</th>\n",
       "      <th>campaign</th>\n",
       "      <th>pdays</th>\n",
       "      <th>previous</th>\n",
       "      <th>poutcome</th>\n",
       "      <th>y</th>\n",
       "    </tr>\n",
       "  </thead>\n",
       "  <tbody>\n",
       "    <tr>\n",
       "      <th>0</th>\n",
       "      <td>30</td>\n",
       "      <td>unemployed</td>\n",
       "      <td>married</td>\n",
       "      <td>primary</td>\n",
       "      <td>no</td>\n",
       "      <td>1787</td>\n",
       "      <td>no</td>\n",
       "      <td>no</td>\n",
       "      <td>cellular</td>\n",
       "      <td>19</td>\n",
       "      <td>oct</td>\n",
       "      <td>79</td>\n",
       "      <td>1</td>\n",
       "      <td>-1</td>\n",
       "      <td>0</td>\n",
       "      <td>unknown</td>\n",
       "      <td>no</td>\n",
       "    </tr>\n",
       "    <tr>\n",
       "      <th>1</th>\n",
       "      <td>33</td>\n",
       "      <td>services</td>\n",
       "      <td>married</td>\n",
       "      <td>secondary</td>\n",
       "      <td>no</td>\n",
       "      <td>4789</td>\n",
       "      <td>yes</td>\n",
       "      <td>yes</td>\n",
       "      <td>cellular</td>\n",
       "      <td>11</td>\n",
       "      <td>may</td>\n",
       "      <td>220</td>\n",
       "      <td>1</td>\n",
       "      <td>339</td>\n",
       "      <td>4</td>\n",
       "      <td>failure</td>\n",
       "      <td>no</td>\n",
       "    </tr>\n",
       "    <tr>\n",
       "      <th>2</th>\n",
       "      <td>35</td>\n",
       "      <td>management</td>\n",
       "      <td>single</td>\n",
       "      <td>tertiary</td>\n",
       "      <td>no</td>\n",
       "      <td>1350</td>\n",
       "      <td>yes</td>\n",
       "      <td>no</td>\n",
       "      <td>cellular</td>\n",
       "      <td>16</td>\n",
       "      <td>apr</td>\n",
       "      <td>185</td>\n",
       "      <td>1</td>\n",
       "      <td>330</td>\n",
       "      <td>1</td>\n",
       "      <td>failure</td>\n",
       "      <td>no</td>\n",
       "    </tr>\n",
       "    <tr>\n",
       "      <th>3</th>\n",
       "      <td>30</td>\n",
       "      <td>management</td>\n",
       "      <td>married</td>\n",
       "      <td>tertiary</td>\n",
       "      <td>no</td>\n",
       "      <td>1476</td>\n",
       "      <td>yes</td>\n",
       "      <td>yes</td>\n",
       "      <td>unknown</td>\n",
       "      <td>3</td>\n",
       "      <td>jun</td>\n",
       "      <td>199</td>\n",
       "      <td>4</td>\n",
       "      <td>-1</td>\n",
       "      <td>0</td>\n",
       "      <td>unknown</td>\n",
       "      <td>no</td>\n",
       "    </tr>\n",
       "    <tr>\n",
       "      <th>4</th>\n",
       "      <td>59</td>\n",
       "      <td>blue-collar</td>\n",
       "      <td>married</td>\n",
       "      <td>secondary</td>\n",
       "      <td>no</td>\n",
       "      <td>0</td>\n",
       "      <td>yes</td>\n",
       "      <td>no</td>\n",
       "      <td>unknown</td>\n",
       "      <td>5</td>\n",
       "      <td>may</td>\n",
       "      <td>226</td>\n",
       "      <td>1</td>\n",
       "      <td>-1</td>\n",
       "      <td>0</td>\n",
       "      <td>unknown</td>\n",
       "      <td>no</td>\n",
       "    </tr>\n",
       "  </tbody>\n",
       "</table>\n",
       "</div>"
      ],
      "text/plain": [
       "   age          job  marital  education default  balance housing loan  \\\n",
       "0   30   unemployed  married    primary      no     1787      no   no   \n",
       "1   33     services  married  secondary      no     4789     yes  yes   \n",
       "2   35   management   single   tertiary      no     1350     yes   no   \n",
       "3   30   management  married   tertiary      no     1476     yes  yes   \n",
       "4   59  blue-collar  married  secondary      no        0     yes   no   \n",
       "\n",
       "    contact  day month  duration  campaign  pdays  previous poutcome   y  \n",
       "0  cellular   19   oct        79         1     -1         0  unknown  no  \n",
       "1  cellular   11   may       220         1    339         4  failure  no  \n",
       "2  cellular   16   apr       185         1    330         1  failure  no  \n",
       "3   unknown    3   jun       199         4     -1         0  unknown  no  \n",
       "4   unknown    5   may       226         1     -1         0  unknown  no  "
      ]
     },
     "execution_count": 157,
     "metadata": {},
     "output_type": "execute_result"
    }
   ],
   "source": [
    "df.head()"
   ]
  },
  {
   "cell_type": "code",
   "execution_count": 158,
   "id": "66e0d4df",
   "metadata": {},
   "outputs": [
    {
     "name": "stdout",
     "output_type": "stream",
     "text": [
      "<class 'pandas.core.frame.DataFrame'>\n",
      "RangeIndex: 4521 entries, 0 to 4520\n",
      "Data columns (total 17 columns):\n",
      " #   Column     Non-Null Count  Dtype \n",
      "---  ------     --------------  ----- \n",
      " 0   age        4521 non-null   int64 \n",
      " 1   job        4521 non-null   object\n",
      " 2   marital    4521 non-null   object\n",
      " 3   education  4521 non-null   object\n",
      " 4   default    4521 non-null   object\n",
      " 5   balance    4521 non-null   int64 \n",
      " 6   housing    4521 non-null   object\n",
      " 7   loan       4521 non-null   object\n",
      " 8   contact    4521 non-null   object\n",
      " 9   day        4521 non-null   int64 \n",
      " 10  month      4521 non-null   object\n",
      " 11  duration   4521 non-null   int64 \n",
      " 12  campaign   4521 non-null   int64 \n",
      " 13  pdays      4521 non-null   int64 \n",
      " 14  previous   4521 non-null   int64 \n",
      " 15  poutcome   4521 non-null   object\n",
      " 16  y          4521 non-null   object\n",
      "dtypes: int64(7), object(10)\n",
      "memory usage: 600.6+ KB\n"
     ]
    }
   ],
   "source": [
    "df.info()"
   ]
  },
  {
   "cell_type": "code",
   "execution_count": 159,
   "id": "78dee61b",
   "metadata": {},
   "outputs": [
    {
     "data": {
      "text/plain": [
       "['job',\n",
       " 'marital',\n",
       " 'education',\n",
       " 'default',\n",
       " 'housing',\n",
       " 'loan',\n",
       " 'contact',\n",
       " 'month',\n",
       " 'poutcome',\n",
       " 'y']"
      ]
     },
     "execution_count": 159,
     "metadata": {},
     "output_type": "execute_result"
    }
   ],
   "source": [
    "#getting columns with categorical data\n",
    "cat_cols = [c for c in df.columns if df[c].dtypes=='O']  # Make lists with categorical and numerical variables:\n",
    "num_cols = [c for c in df.columns if df[c].dtypes!='O']\n",
    "cat_cols"
   ]
  },
  {
   "cell_type": "markdown",
   "id": "caad33eb",
   "metadata": {},
   "source": [
    "# Conversion to numerics"
   ]
  },
  {
   "cell_type": "markdown",
   "id": "4c6c830e",
   "metadata": {},
   "source": [
    "### Converting job into binary "
   ]
  },
  {
   "cell_type": "code",
   "execution_count": 160,
   "id": "9150dbc1",
   "metadata": {
    "scrolled": true
   },
   "outputs": [
    {
     "data": {
      "text/plain": [
       "management       969\n",
       "blue-collar      946\n",
       "technician       768\n",
       "admin.           478\n",
       "services         417\n",
       "retired          230\n",
       "self-employed    183\n",
       "entrepreneur     168\n",
       "unemployed       128\n",
       "housemaid        112\n",
       "student           84\n",
       "unknown           38\n",
       "Name: job, dtype: int64"
      ]
     },
     "execution_count": 160,
     "metadata": {},
     "output_type": "execute_result"
    }
   ],
   "source": [
    "df.job.value_counts()"
   ]
  },
  {
   "cell_type": "code",
   "execution_count": 161,
   "id": "f9c2fd13",
   "metadata": {},
   "outputs": [],
   "source": [
    "df['job'] = df['job'].map({'management':1, 'blue-collar':2, 'technician':3, 'admin.':4, 'services':5, 'retired':6, 'self-employed':7, 'entrepreneur':8, 'unemployed':9, 'housemaid':10, 'student':11, 'unknown':12}) # Re-code the 'marital' parameter as binary:"
   ]
  },
  {
   "cell_type": "markdown",
   "id": "fd659275",
   "metadata": {},
   "source": [
    "### Converting marital into binary "
   ]
  },
  {
   "cell_type": "code",
   "execution_count": 162,
   "id": "8dba4ea7",
   "metadata": {},
   "outputs": [
    {
     "data": {
      "text/plain": [
       "married     2797\n",
       "single      1196\n",
       "divorced     528\n",
       "Name: marital, dtype: int64"
      ]
     },
     "execution_count": 162,
     "metadata": {},
     "output_type": "execute_result"
    }
   ],
   "source": [
    "df.marital.value_counts()"
   ]
  },
  {
   "cell_type": "code",
   "execution_count": 163,
   "id": "9c4b8fe1",
   "metadata": {},
   "outputs": [
    {
     "name": "stdout",
     "output_type": "stream",
     "text": [
      "married    2797\n",
      "other      1724\n",
      "Name: marital, dtype: int64\n"
     ]
    }
   ],
   "source": [
    "Counts_val = df['marital'].value_counts()\n",
    "mask = df['marital'].isin(Counts_val[Counts_val<1197].index)\n",
    "df['marital'][mask] = 'other'\n",
    "print(pd.value_counts(df['marital']))\n",
    "pd.options.mode.chained_assignment = None #to avaoid error"
   ]
  },
  {
   "cell_type": "code",
   "execution_count": 164,
   "id": "b663fd73",
   "metadata": {},
   "outputs": [],
   "source": [
    "df['marital'] = df['marital'].map({'married':1, 'other':0}) # Re-code the 'marital' parameter as binary:"
   ]
  },
  {
   "cell_type": "markdown",
   "id": "4dd175d6",
   "metadata": {},
   "source": [
    "### Converting education into binary "
   ]
  },
  {
   "cell_type": "code",
   "execution_count": 165,
   "id": "ace2cb45",
   "metadata": {
    "scrolled": false
   },
   "outputs": [
    {
     "data": {
      "text/plain": [
       "secondary    2306\n",
       "tertiary     1350\n",
       "primary       678\n",
       "unknown       187\n",
       "Name: education, dtype: int64"
      ]
     },
     "execution_count": 165,
     "metadata": {},
     "output_type": "execute_result"
    }
   ],
   "source": [
    "df.education.value_counts()"
   ]
  },
  {
   "cell_type": "code",
   "execution_count": 166,
   "id": "a16c6176",
   "metadata": {},
   "outputs": [],
   "source": [
    "df['education'] = df['education'].map({'secondary':2, 'tertiary':3, 'primary':1, 'unknown':0}) # Re-code the 'education' parameter as binary:"
   ]
  },
  {
   "cell_type": "markdown",
   "id": "b0077567",
   "metadata": {},
   "source": [
    "### Converting default into binary "
   ]
  },
  {
   "cell_type": "code",
   "execution_count": 167,
   "id": "050a53df",
   "metadata": {
    "scrolled": true
   },
   "outputs": [
    {
     "data": {
      "text/plain": [
       "no     4445\n",
       "yes      76\n",
       "Name: default, dtype: int64"
      ]
     },
     "execution_count": 167,
     "metadata": {},
     "output_type": "execute_result"
    }
   ],
   "source": [
    "df.default.value_counts()"
   ]
  },
  {
   "cell_type": "code",
   "execution_count": 168,
   "id": "ecea34b8",
   "metadata": {},
   "outputs": [],
   "source": [
    "df['default'] = df['default'].map({'yes':1, 'no':0}) # Re-code the 'default' parameter as binary:"
   ]
  },
  {
   "cell_type": "markdown",
   "id": "26292e35",
   "metadata": {},
   "source": [
    "### Converting housing into binary "
   ]
  },
  {
   "cell_type": "code",
   "execution_count": 169,
   "id": "4877e3b9",
   "metadata": {
    "scrolled": true
   },
   "outputs": [
    {
     "data": {
      "text/plain": [
       "yes    2559\n",
       "no     1962\n",
       "Name: housing, dtype: int64"
      ]
     },
     "execution_count": 169,
     "metadata": {},
     "output_type": "execute_result"
    }
   ],
   "source": [
    "df.housing.value_counts()"
   ]
  },
  {
   "cell_type": "code",
   "execution_count": 170,
   "id": "d0903501",
   "metadata": {},
   "outputs": [],
   "source": [
    "df['housing'] = df['housing'].map({'yes':1, 'no':0}) # Re-code the 'housing' parameter as binary:"
   ]
  },
  {
   "cell_type": "markdown",
   "id": "16c3b286",
   "metadata": {},
   "source": [
    "### Converting loan into binary "
   ]
  },
  {
   "cell_type": "code",
   "execution_count": 171,
   "id": "a345ff9d",
   "metadata": {
    "scrolled": true
   },
   "outputs": [
    {
     "data": {
      "text/plain": [
       "no     3830\n",
       "yes     691\n",
       "Name: loan, dtype: int64"
      ]
     },
     "execution_count": 171,
     "metadata": {},
     "output_type": "execute_result"
    }
   ],
   "source": [
    "df.loan.value_counts()"
   ]
  },
  {
   "cell_type": "code",
   "execution_count": 172,
   "id": "6f8f9bf7",
   "metadata": {},
   "outputs": [],
   "source": [
    "df['loan'] = df['loan'].map({'yes':1, 'no':0}) # Re-code the 'loan' parameter as binary:"
   ]
  },
  {
   "cell_type": "markdown",
   "id": "f1f1afbb",
   "metadata": {},
   "source": [
    "### Converting contact into binary "
   ]
  },
  {
   "cell_type": "code",
   "execution_count": 173,
   "id": "ea6d63aa",
   "metadata": {
    "scrolled": true
   },
   "outputs": [
    {
     "data": {
      "text/plain": [
       "cellular     2896\n",
       "unknown      1324\n",
       "telephone     301\n",
       "Name: contact, dtype: int64"
      ]
     },
     "execution_count": 173,
     "metadata": {},
     "output_type": "execute_result"
    }
   ],
   "source": [
    "df.contact.value_counts()"
   ]
  },
  {
   "cell_type": "code",
   "execution_count": 174,
   "id": "af492e61",
   "metadata": {},
   "outputs": [],
   "source": [
    "df['contact'] = df['contact'].map({'cellular':1, 'unknown':0, 'telephone':2}) # Re-code the 'contact' parameter as binary:"
   ]
  },
  {
   "cell_type": "markdown",
   "id": "ab11824a",
   "metadata": {},
   "source": [
    "### Converting month into binary "
   ]
  },
  {
   "cell_type": "code",
   "execution_count": 175,
   "id": "eee0c190",
   "metadata": {
    "scrolled": true
   },
   "outputs": [
    {
     "data": {
      "text/plain": [
       "may    1398\n",
       "jul     706\n",
       "aug     633\n",
       "jun     531\n",
       "nov     389\n",
       "apr     293\n",
       "feb     222\n",
       "jan     148\n",
       "oct      80\n",
       "sep      52\n",
       "mar      49\n",
       "dec      20\n",
       "Name: month, dtype: int64"
      ]
     },
     "execution_count": 175,
     "metadata": {},
     "output_type": "execute_result"
    }
   ],
   "source": [
    "df.month.value_counts()"
   ]
  },
  {
   "cell_type": "code",
   "execution_count": 176,
   "id": "4aa6ae2d",
   "metadata": {},
   "outputs": [],
   "source": [
    "# Re-code the 'month' parameter as binary:\n",
    "df['month'] = df['month'].map({'may':5, 'jul':7, 'aug':8, 'jun':6, 'nov':11, 'apr':4, 'feb':2, 'jan':1, 'oct':10, 'sep':9, 'mar':3, 'dec':12})"
   ]
  },
  {
   "cell_type": "markdown",
   "id": "84c9efb4",
   "metadata": {},
   "source": [
    "### Converting y into binary "
   ]
  },
  {
   "cell_type": "code",
   "execution_count": 177,
   "id": "05ba540c",
   "metadata": {
    "scrolled": true
   },
   "outputs": [
    {
     "data": {
      "text/plain": [
       "no     4000\n",
       "yes     521\n",
       "Name: y, dtype: int64"
      ]
     },
     "execution_count": 177,
     "metadata": {},
     "output_type": "execute_result"
    }
   ],
   "source": [
    "df.y.value_counts()"
   ]
  },
  {
   "cell_type": "code",
   "execution_count": 178,
   "id": "519dd4f9",
   "metadata": {},
   "outputs": [],
   "source": [
    "df['y'] = df['y'].map({'yes':1, 'no':0}) # Re-code the 'y' parameter as binary:"
   ]
  },
  {
   "cell_type": "markdown",
   "id": "8959ed65",
   "metadata": {},
   "source": [
    "### Converting poutcome into binary "
   ]
  },
  {
   "cell_type": "code",
   "execution_count": 179,
   "id": "dc1d2b40",
   "metadata": {
    "scrolled": false
   },
   "outputs": [
    {
     "data": {
      "text/plain": [
       "unknown    3705\n",
       "failure     490\n",
       "other       197\n",
       "success     129\n",
       "Name: poutcome, dtype: int64"
      ]
     },
     "execution_count": 179,
     "metadata": {},
     "output_type": "execute_result"
    }
   ],
   "source": [
    "df.poutcome.value_counts()"
   ]
  },
  {
   "cell_type": "code",
   "execution_count": 180,
   "id": "2d226157",
   "metadata": {},
   "outputs": [],
   "source": [
    "df['poutcome'] = df['poutcome'].map({'unknown':0, 'failure':-1, 'other':0, 'success':1}) # Re-code the 'poutcome' parameter as binary:"
   ]
  },
  {
   "cell_type": "code",
   "execution_count": 181,
   "id": "ff4f85ab",
   "metadata": {},
   "outputs": [
    {
     "data": {
      "text/plain": [
       " 0    3902\n",
       "-1     490\n",
       " 1     129\n",
       "Name: poutcome, dtype: int64"
      ]
     },
     "execution_count": 181,
     "metadata": {},
     "output_type": "execute_result"
    }
   ],
   "source": [
    "df.poutcome.value_counts()"
   ]
  },
  {
   "cell_type": "markdown",
   "id": "be592e1b",
   "metadata": {},
   "source": [
    "# Logistic Regression"
   ]
  },
  {
   "cell_type": "markdown",
   "id": "0b15edb7",
   "metadata": {},
   "source": [
    "### Logistic Regression : Hold Out method (30%-70%)"
   ]
  },
  {
   "cell_type": "code",
   "execution_count": 182,
   "id": "15a4989a",
   "metadata": {},
   "outputs": [],
   "source": [
    "X = df.drop('y', axis=1)"
   ]
  },
  {
   "cell_type": "code",
   "execution_count": 183,
   "id": "d8f6e988",
   "metadata": {},
   "outputs": [],
   "source": [
    "y = df['y']"
   ]
  },
  {
   "cell_type": "code",
   "execution_count": 184,
   "id": "2c8a66b9",
   "metadata": {},
   "outputs": [],
   "source": [
    "from sklearn.model_selection import train_test_split"
   ]
  },
  {
   "cell_type": "code",
   "execution_count": 185,
   "id": "d419e752",
   "metadata": {},
   "outputs": [],
   "source": [
    "trainX, testX, trainY, testY = train_test_split(X,y, test_size=0.3, random_state=42)"
   ]
  },
  {
   "cell_type": "code",
   "execution_count": 186,
   "id": "3d9140aa",
   "metadata": {},
   "outputs": [],
   "source": [
    "from sklearn.linear_model import LogisticRegression  #import"
   ]
  },
  {
   "cell_type": "code",
   "execution_count": 187,
   "id": "75242948",
   "metadata": {},
   "outputs": [],
   "source": [
    "modelLogR = LogisticRegression()     # object"
   ]
  },
  {
   "cell_type": "code",
   "execution_count": 188,
   "id": "d771cfc5",
   "metadata": {},
   "outputs": [
    {
     "name": "stderr",
     "output_type": "stream",
     "text": [
      "C:\\Users\\Huzefa\\anaconda3\\lib\\site-packages\\sklearn\\linear_model\\_logistic.py:814: ConvergenceWarning: lbfgs failed to converge (status=1):\n",
      "STOP: TOTAL NO. of ITERATIONS REACHED LIMIT.\n",
      "\n",
      "Increase the number of iterations (max_iter) or scale the data as shown in:\n",
      "    https://scikit-learn.org/stable/modules/preprocessing.html\n",
      "Please also refer to the documentation for alternative solver options:\n",
      "    https://scikit-learn.org/stable/modules/linear_model.html#logistic-regression\n",
      "  n_iter_i = _check_optimize_result(\n"
     ]
    },
    {
     "data": {
      "text/plain": [
       "LogisticRegression()"
      ]
     },
     "execution_count": 188,
     "metadata": {},
     "output_type": "execute_result"
    }
   ],
   "source": [
    "modelLogR.fit(trainX,trainY)"
   ]
  },
  {
   "cell_type": "code",
   "execution_count": 189,
   "id": "42f80fd2",
   "metadata": {},
   "outputs": [],
   "source": [
    "preLogR = modelLogR.predict(testX)"
   ]
  },
  {
   "cell_type": "code",
   "execution_count": 190,
   "id": "59e6d373",
   "metadata": {},
   "outputs": [],
   "source": [
    "from sklearn.metrics import classification_report, accuracy_score"
   ]
  },
  {
   "cell_type": "code",
   "execution_count": 191,
   "id": "6e9e28d5",
   "metadata": {},
   "outputs": [
    {
     "data": {
      "text/plain": [
       "0.8887251289609432"
      ]
     },
     "execution_count": 191,
     "metadata": {},
     "output_type": "execute_result"
    }
   ],
   "source": [
    "accuracy_score(preLogR,testY)"
   ]
  },
  {
   "cell_type": "code",
   "execution_count": 1,
   "id": "8e853292",
   "metadata": {},
   "outputs": [
    {
     "ename": "NameError",
     "evalue": "name 'precision_score' is not defined",
     "output_type": "error",
     "traceback": [
      "\u001b[1;31m---------------------------------------------------------------------------\u001b[0m",
      "\u001b[1;31mNameError\u001b[0m                                 Traceback (most recent call last)",
      "\u001b[1;32m~\\AppData\\Local\\Temp\\ipykernel_8136\\1670453029.py\u001b[0m in \u001b[0;36m<module>\u001b[1;34m\u001b[0m\n\u001b[1;32m----> 1\u001b[1;33m \u001b[0mprecision_score\u001b[0m\u001b[1;33m(\u001b[0m\u001b[0mpreLogR\u001b[0m\u001b[1;33m,\u001b[0m\u001b[0mtestY\u001b[0m\u001b[1;33m)\u001b[0m\u001b[1;33m\u001b[0m\u001b[1;33m\u001b[0m\u001b[0m\n\u001b[0m",
      "\u001b[1;31mNameError\u001b[0m: name 'precision_score' is not defined"
     ]
    }
   ],
   "source": [
    "precision_score(preLogR,testY)"
   ]
  },
  {
   "cell_type": "code",
   "execution_count": 192,
   "id": "fa693a0f",
   "metadata": {
    "scrolled": true
   },
   "outputs": [
    {
     "name": "stdout",
     "output_type": "stream",
     "text": [
      "              precision    recall  f1-score   support\n",
      "\n",
      "           0       0.90      0.98      0.94      1205\n",
      "           1       0.51      0.17      0.26       152\n",
      "\n",
      "    accuracy                           0.89      1357\n",
      "   macro avg       0.71      0.58      0.60      1357\n",
      "weighted avg       0.86      0.89      0.86      1357\n",
      "\n"
     ]
    }
   ],
   "source": [
    "print(classification_report(testY,preLogR))"
   ]
  },
  {
   "cell_type": "markdown",
   "id": "07737885",
   "metadata": {},
   "source": [
    "### Logistic Regression : Simple K-fold Method"
   ]
  },
  {
   "cell_type": "code",
   "execution_count": 193,
   "id": "6d5e32c7",
   "metadata": {},
   "outputs": [],
   "source": [
    "# evaluate a logistic regression model using k-fold cross-validation\n",
    "import numpy as np\n",
    "import pandas as pd\n",
    "#from sklearn.datasets import make_classification\n",
    "from sklearn.model_selection import cross_val_score, StratifiedKFold, KFold\n",
    "from sklearn.linear_model import LogisticRegression"
   ]
  },
  {
   "cell_type": "code",
   "execution_count": 194,
   "id": "a4348c33",
   "metadata": {},
   "outputs": [],
   "source": [
    "# Simple Kfold\n",
    "kf1 = KFold(n_splits=10, random_state=42, shuffle=True)\n",
    "# Stratified K-fold\n",
    "Skf1 = StratifiedKFold(n_splits=10, random_state=42, shuffle=True)"
   ]
  },
  {
   "cell_type": "code",
   "execution_count": 195,
   "id": "649644bd",
   "metadata": {},
   "outputs": [],
   "source": [
    "scores_cv1_accuracy = cross_val_score(modelLogR, X, y, scoring='accuracy', cv=kf1, n_jobs=-1)\n",
    "scores_cv1_precision = cross_val_score(modelLogR, X, y, scoring='precision', cv=kf1, n_jobs=-1)\n",
    "scores_cv1_recall = cross_val_score(modelLogR, X, y, scoring='recall', cv=kf1, n_jobs=-1)\n"
   ]
  },
  {
   "cell_type": "code",
   "execution_count": 196,
   "id": "c96fad3e",
   "metadata": {},
   "outputs": [
    {
     "name": "stdout",
     "output_type": "stream",
     "text": [
      "Accuracy : 0.8847589325831722\n",
      "Precision : 0.49279054279054285\n",
      "Recall : 0.1560202971416586\n"
     ]
    }
   ],
   "source": [
    "# --- Simple Kfold ---\n",
    "print(\"Accuracy :\",scores_cv1_accuracy.mean())\n",
    "print(\"Precision :\",scores_cv1_precision.mean())\n",
    "print(\"Recall :\",scores_cv1_recall.mean())\n"
   ]
  },
  {
   "cell_type": "markdown",
   "id": "43548f64",
   "metadata": {},
   "source": [
    "### Logistic Regression : Stratified K-fold method "
   ]
  },
  {
   "cell_type": "code",
   "execution_count": 197,
   "id": "e02a21fe",
   "metadata": {},
   "outputs": [],
   "source": [
    "scores_skf1_accuracy = cross_val_score(modelLogR, X, y, scoring='accuracy', cv=Skf1, n_jobs=-1)\n",
    "scores_skf1_precision = cross_val_score(modelLogR, X, y, scoring='precision', cv=Skf1, n_jobs=-1)\n",
    "scores_skf1_recall = cross_val_score(modelLogR, X, y, scoring='recall', cv=Skf1, n_jobs=-1)"
   ]
  },
  {
   "cell_type": "code",
   "execution_count": 198,
   "id": "5e700728",
   "metadata": {},
   "outputs": [
    {
     "name": "stdout",
     "output_type": "stream",
     "text": [
      "Accuracy : 0.8847613745140557\n",
      "Precision : 0.5139573906485673\n",
      "Recall : 0.15348330914368652\n"
     ]
    }
   ],
   "source": [
    "# --- stratified Kfold ----\n",
    "print(\"Accuracy :\",scores_skf1_accuracy.mean())\n",
    "print(\"Precision :\",scores_skf1_precision.mean())\n",
    "print(\"Recall :\",scores_skf1_recall.mean())"
   ]
  },
  {
   "cell_type": "markdown",
   "id": "a54439be",
   "metadata": {},
   "source": [
    "# KNN"
   ]
  },
  {
   "cell_type": "markdown",
   "id": "97f6b732",
   "metadata": {},
   "source": [
    "### KNN : Hold Out method (30%-70%)\n"
   ]
  },
  {
   "cell_type": "code",
   "execution_count": 199,
   "id": "80ecd747",
   "metadata": {},
   "outputs": [],
   "source": [
    "from sklearn.neighbors import KNeighborsClassifier"
   ]
  },
  {
   "cell_type": "code",
   "execution_count": 200,
   "id": "3108a82e",
   "metadata": {},
   "outputs": [],
   "source": [
    "modelKNN = KNeighborsClassifier(n_neighbors=12)"
   ]
  },
  {
   "cell_type": "code",
   "execution_count": 201,
   "id": "f83a07c0",
   "metadata": {},
   "outputs": [
    {
     "data": {
      "text/plain": [
       "KNeighborsClassifier(n_neighbors=12)"
      ]
     },
     "execution_count": 201,
     "metadata": {},
     "output_type": "execute_result"
    }
   ],
   "source": [
    "modelKNN.fit(trainX,trainY)"
   ]
  },
  {
   "cell_type": "code",
   "execution_count": 202,
   "id": "eb16fa13",
   "metadata": {},
   "outputs": [
    {
     "name": "stderr",
     "output_type": "stream",
     "text": [
      "C:\\Users\\Huzefa\\anaconda3\\lib\\site-packages\\sklearn\\neighbors\\_classification.py:228: FutureWarning: Unlike other reduction functions (e.g. `skew`, `kurtosis`), the default behavior of `mode` typically preserves the axis it acts along. In SciPy 1.11.0, this behavior will change: the default value of `keepdims` will become False, the `axis` over which the statistic is taken will be eliminated, and the value None will no longer be accepted. Set `keepdims` to True or False to avoid this warning.\n",
      "  mode, _ = stats.mode(_y[neigh_ind, k], axis=1)\n"
     ]
    }
   ],
   "source": [
    "preKNN = modelKNN.predict(testX)"
   ]
  },
  {
   "cell_type": "code",
   "execution_count": 203,
   "id": "53f8c81d",
   "metadata": {},
   "outputs": [],
   "source": [
    "from sklearn.metrics import classification_report"
   ]
  },
  {
   "cell_type": "code",
   "execution_count": 204,
   "id": "7a5c8e73",
   "metadata": {},
   "outputs": [
    {
     "name": "stdout",
     "output_type": "stream",
     "text": [
      "              precision    recall  f1-score   support\n",
      "\n",
      "           0       0.90      0.98      0.94      1205\n",
      "           1       0.50      0.15      0.23       152\n",
      "\n",
      "    accuracy                           0.89      1357\n",
      "   macro avg       0.70      0.57      0.59      1357\n",
      "weighted avg       0.86      0.89      0.86      1357\n",
      "\n"
     ]
    }
   ],
   "source": [
    "print(classification_report(testY,preKNN))"
   ]
  },
  {
   "cell_type": "markdown",
   "id": "149c4e65",
   "metadata": {},
   "source": [
    "### KNN : Simple K-fold Method "
   ]
  },
  {
   "cell_type": "code",
   "execution_count": 205,
   "id": "8f2d7652",
   "metadata": {},
   "outputs": [],
   "source": [
    "# Simple Kfold\n",
    "kf2 = KFold(n_splits=8, random_state=42, shuffle=True)\n",
    "# Stratified K-fold\n",
    "Skf2 = StratifiedKFold(n_splits=8, random_state=42, shuffle=True)\n"
   ]
  },
  {
   "cell_type": "code",
   "execution_count": 206,
   "id": "7c4b5832",
   "metadata": {},
   "outputs": [],
   "source": [
    "# --- Simple Kfold ---\n",
    "scores_cv2_accuracy = cross_val_score(modelKNN, X, y, scoring='accuracy', cv=kf2, n_jobs=-1)\n",
    "scores_cv2_precision = cross_val_score(modelKNN, X, y, scoring='precision', cv=kf2, n_jobs=-1)\n",
    "scores_cv2_recall = cross_val_score(modelKNN, X, y, scoring='recall', cv=kf2, n_jobs=-1)\n"
   ]
  },
  {
   "cell_type": "code",
   "execution_count": 207,
   "id": "f1a17452",
   "metadata": {},
   "outputs": [
    {
     "name": "stdout",
     "output_type": "stream",
     "text": [
      "Accuracy : 0.8867479439632259\n",
      "Precision : 0.5513418571163136\n",
      "Recall : 0.11926851478011112\n"
     ]
    }
   ],
   "source": [
    "# --- Simple Kfold ---\n",
    "print(\"Accuracy :\",scores_cv2_accuracy.mean())\n",
    "print(\"Precision :\",scores_cv2_precision.mean())\n",
    "print(\"Recall :\",scores_cv2_recall.mean())"
   ]
  },
  {
   "cell_type": "markdown",
   "id": "a0988f5e",
   "metadata": {},
   "source": [
    "### KNN : Stratified K-fold method "
   ]
  },
  {
   "cell_type": "code",
   "execution_count": 208,
   "id": "7152ea42",
   "metadata": {},
   "outputs": [],
   "source": [
    "# --- stratified Kfold ----\n",
    "scores_skf2_accuracy = cross_val_score(modelKNN, X, y, scoring='accuracy', cv=Skf2, n_jobs=-1)\n",
    "scores_skf2_precision = cross_val_score(modelKNN, X, y, scoring='precision', cv=Skf2, n_jobs=-1)\n",
    "scores_skf2_recall = cross_val_score(modelKNN, X, y, scoring='recall', cv=Skf2, n_jobs=-1)"
   ]
  },
  {
   "cell_type": "code",
   "execution_count": 209,
   "id": "415ebe9c",
   "metadata": {
    "scrolled": true
   },
   "outputs": [
    {
     "name": "stdout",
     "output_type": "stream",
     "text": [
      "Accuracy : 0.8852023984489822\n",
      "Precision : 0.5125254953379953\n",
      "Recall : 0.10174825174825175\n"
     ]
    }
   ],
   "source": [
    "# --- stratified Kfold ----\n",
    "print(\"Accuracy :\",scores_skf2_accuracy.mean())\n",
    "print(\"Precision :\",scores_skf2_precision.mean())\n",
    "print(\"Recall :\",scores_skf2_recall.mean())"
   ]
  },
  {
   "attachments": {
    "image.png": {
     "image/png": "[encoded data removed]"
    }
   },
   "cell_type": "markdown",
   "id": "08f36bb8",
   "metadata": {},
   "source": [
    "![image.png](attachment:image.png)"
   ]
  }
 ],
 "metadata": {
  "kernelspec": {
   "display_name": "Python 3 (ipykernel)",
   "language": "python",
   "name": "python3"
  },
  "language_info": {
   "codemirror_mode": {
    "name": "ipython",
    "version": 3
   },
   "file_extension": ".py",
   "mimetype": "text/x-python",
   "name": "python",
   "nbconvert_exporter": "python",
   "pygments_lexer": "ipython3",
   "version": "3.9.13"
  }
 },
 "nbformat": 4,
 "nbformat_minor": 5
}
